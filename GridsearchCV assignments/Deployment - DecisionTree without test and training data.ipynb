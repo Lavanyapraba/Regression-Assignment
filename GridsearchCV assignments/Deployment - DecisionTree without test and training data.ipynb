{
 "cells": [
  {
   "cell_type": "code",
   "execution_count": 1,
   "id": "2e53740f-a2d6-448a-b204-d50a768b3421",
   "metadata": {},
   "outputs": [],
   "source": [
    "import pandas as pd\n",
    "import numpy as np\n",
    "\n",
    "dataset=pd.read_csv(\"insurance_pre.csv\")\n",
    "\n",
    "dataset=pd.get_dummies(dataset,dtype=int,drop_first=True)\n",
    "\n",
    "input=dataset[['age', 'bmi', 'children', 'sex_male', 'smoker_yes']]\n",
    "\n",
    "output=dataset[['charges']]\n",
    "\n",
    "from sklearn.preprocessing import StandardScaler\n",
    "sc=StandardScaler()\n",
    "\n",
    "input=sc.fit_transform(input)"
   ]
  },
  {
   "cell_type": "code",
   "execution_count": 2,
   "id": "363aa9c0-32f5-4b99-85ad-50125173495e",
   "metadata": {},
   "outputs": [],
   "source": [
    "import pickle"
   ]
  },
  {
   "cell_type": "code",
   "execution_count": 3,
   "id": "64c7fef5-66ec-41d8-be47-63bb7b94ebac",
   "metadata": {},
   "outputs": [
    {
     "name": "stderr",
     "output_type": "stream",
     "text": [
      "C:\\Users\\91805\\anaconda3\\Lib\\site-packages\\sklearn\\base.py:493: UserWarning: X does not have valid feature names, but StandardScaler was fitted with feature names\n",
      "  warnings.warn(\n"
     ]
    }
   ],
   "source": [
    "loaded_model=pickle.load(open(\"Best_gridsearchcvmodel_DecisionTree_Withouttest&trainingdata.sav\",'rb'))\n",
    "preinput=sc.transform([[53,38,2,0,0]])\n",
    "Charges=loaded_model.predict(preinput)"
   ]
  },
  {
   "cell_type": "code",
   "execution_count": 8,
   "id": "d831d6b0-470d-4f29-af14-7ae595afc872",
   "metadata": {},
   "outputs": [
    {
     "data": {
      "text/plain": [
       "array([12646.207])"
      ]
     },
     "execution_count": 8,
     "metadata": {},
     "output_type": "execute_result"
    }
   ],
   "source": [
    "Charges"
   ]
  },
  {
   "cell_type": "code",
   "execution_count": null,
   "id": "e6315790-82ea-4afc-9112-b55b9d33dfbc",
   "metadata": {},
   "outputs": [],
   "source": []
  }
 ],
 "metadata": {
  "kernelspec": {
   "display_name": "Python 3 (ipykernel)",
   "language": "python",
   "name": "python3"
  },
  "language_info": {
   "codemirror_mode": {
    "name": "ipython",
    "version": 3
   },
   "file_extension": ".py",
   "mimetype": "text/x-python",
   "name": "python",
   "nbconvert_exporter": "python",
   "pygments_lexer": "ipython3",
   "version": "3.12.4"
  }
 },
 "nbformat": 4,
 "nbformat_minor": 5
}
