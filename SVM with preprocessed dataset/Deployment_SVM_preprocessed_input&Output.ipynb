{
 "cells": [
  {
   "cell_type": "code",
   "execution_count": 3,
   "id": "acb548ee-4f45-4692-bc12-13fb2717887d",
   "metadata": {},
   "outputs": [],
   "source": [
    "import pandas as pd"
   ]
  },
  {
   "cell_type": "code",
   "execution_count": 5,
   "id": "29a5e430-4b64-453a-bdd8-b3c7b8e3d657",
   "metadata": {},
   "outputs": [],
   "source": [
    "import pickle"
   ]
  },
  {
   "cell_type": "code",
   "execution_count": 7,
   "id": "923349ba-f6ba-4c58-9990-bfca14e2de36",
   "metadata": {},
   "outputs": [],
   "source": [
    "dataset=pd.read_csv(\"50_startups.csv\")\n",
    "dataset=pd.get_dummies(dataset,dtype=int,drop_first=True)\n",
    "Independent=dataset[['R&D Spend', 'Administration', 'Marketing Spend', 'State_Florida', 'State_New York']]\n",
    "Dependent=dataset[['Profit']]\n",
    "from sklearn.model_selection import train_test_split\n",
    "x_train,x_test,y_train,y_test=train_test_split(Independent,Dependent,test_size=0.30,random_state=0)\n"
   ]
  },
  {
   "cell_type": "code",
   "execution_count": 9,
   "id": "0ed078d5-daa4-4431-984a-0237919f9a09",
   "metadata": {},
   "outputs": [],
   "source": [
    "from sklearn.preprocessing import StandardScaler\n",
    "sc=StandardScaler()\n",
    "x_train=sc.fit_transform(x_train)\n",
    "x_test=sc.transform(x_test)"
   ]
  },
  {
   "cell_type": "code",
   "execution_count": 11,
   "id": "a30a4fed-8061-4027-959e-033f84ec7bf8",
   "metadata": {},
   "outputs": [],
   "source": [
    "scy=StandardScaler()\n",
    "y_train=scy.fit_transform(y_train)\n",
    "y_test=scy.transform(y_test)"
   ]
  },
  {
   "cell_type": "code",
   "execution_count": 13,
   "id": "526340e5-ecc0-4396-b67d-575ed0d48bc9",
   "metadata": {},
   "outputs": [
    {
     "name": "stderr",
     "output_type": "stream",
     "text": [
      "C:\\Users\\91805\\anaconda3\\Lib\\site-packages\\sklearn\\base.py:493: UserWarning: X does not have valid feature names, but StandardScaler was fitted with feature names\n",
      "  warnings.warn(\n"
     ]
    }
   ],
   "source": [
    "preinput=sc.transform([[1300,12000,4000,0,1]])"
   ]
  },
  {
   "cell_type": "code",
   "execution_count": 15,
   "id": "8630db94-a29a-4248-beaa-dc0fb070be12",
   "metadata": {},
   "outputs": [
    {
     "data": {
      "text/plain": [
       "array([[-1.46755405, -4.33835385, -1.50744257, -0.5       ,  1.30088727]])"
      ]
     },
     "execution_count": 15,
     "metadata": {},
     "output_type": "execute_result"
    }
   ],
   "source": [
    "preinput"
   ]
  },
  {
   "cell_type": "code",
   "execution_count": 23,
   "id": "d26e3441-99e3-460a-9e84-733644d6ed98",
   "metadata": {},
   "outputs": [],
   "source": [
    "loaded_model=pickle.load(open(\"finalized_model_SVM_preproceesed_input&output.sav\",'rb'))\n",
    "result=loaded_model.predict(preinput)"
   ]
  },
  {
   "cell_type": "code",
   "execution_count": 25,
   "id": "bbbac027-1518-47c3-b225-3b660ff60aef",
   "metadata": {},
   "outputs": [
    {
     "data": {
      "text/plain": [
       "array([-1.03109284])"
      ]
     },
     "execution_count": 25,
     "metadata": {},
     "output_type": "execute_result"
    }
   ],
   "source": [
    "result"
   ]
  },
  {
   "cell_type": "code",
   "execution_count": 31,
   "id": "8f8f8368-117d-4d3c-b23e-7df7a07530a4",
   "metadata": {},
   "outputs": [],
   "source": [
    "preoutput=scy.inverse_transform([result])"
   ]
  },
  {
   "cell_type": "code",
   "execution_count": 33,
   "id": "1aa0ffe3-a3a9-42a6-aa23-be7bb338cd48",
   "metadata": {},
   "outputs": [
    {
     "data": {
      "text/plain": [
       "array([[65875.16964031]])"
      ]
     },
     "execution_count": 33,
     "metadata": {},
     "output_type": "execute_result"
    }
   ],
   "source": [
    "preoutput"
   ]
  },
  {
   "cell_type": "code",
   "execution_count": null,
   "id": "1cf9656e-87ed-4830-b646-b0f2a17586dd",
   "metadata": {},
   "outputs": [],
   "source": []
  }
 ],
 "metadata": {
  "kernelspec": {
   "display_name": "Python 3 (ipykernel)",
   "language": "python",
   "name": "python3"
  },
  "language_info": {
   "codemirror_mode": {
    "name": "ipython",
    "version": 3
   },
   "file_extension": ".py",
   "mimetype": "text/x-python",
   "name": "python",
   "nbconvert_exporter": "python",
   "pygments_lexer": "ipython3",
   "version": "3.12.4"
  }
 },
 "nbformat": 4,
 "nbformat_minor": 5
}
