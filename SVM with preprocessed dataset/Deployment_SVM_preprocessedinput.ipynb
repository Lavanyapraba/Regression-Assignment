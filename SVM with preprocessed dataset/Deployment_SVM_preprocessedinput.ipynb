{
 "cells": [
  {
   "cell_type": "code",
   "execution_count": 5,
   "id": "fa774ef7-b80b-49da-a4cd-7e22ebd92b8b",
   "metadata": {},
   "outputs": [],
   "source": [
    "import pickle"
   ]
  },
  {
   "cell_type": "code",
   "execution_count": 7,
   "id": "d15ebcd5-c3f4-4e80-a4ad-404c3bf78b15",
   "metadata": {},
   "outputs": [],
   "source": [
    "import pandas as pd"
   ]
  },
  {
   "cell_type": "code",
   "execution_count": 9,
   "id": "1b3411ca-54bb-45ee-b777-e75c4f5aea73",
   "metadata": {},
   "outputs": [],
   "source": [
    "dataset=pd.read_csv(\"50_startups.csv\")\n",
    "dataset=pd.get_dummies(dataset,dtype=int,drop_first=True)\n",
    "Independent=dataset[['R&D Spend', 'Administration', 'Marketing Spend', 'State_Florida', 'State_New York']]\n",
    "Dependent=dataset[['Profit']]\n",
    "from sklearn.model_selection import train_test_split\n",
    "x_train,x_test,y_train,y_test=train_test_split(Independent,Dependent,test_size=0.30,random_state=0)\n"
   ]
  },
  {
   "cell_type": "code",
   "execution_count": 11,
   "id": "bea8eb53-f9b0-40e3-b4c3-93ea98681a9e",
   "metadata": {},
   "outputs": [],
   "source": [
    "from sklearn.preprocessing import StandardScaler\n",
    "sc=StandardScaler()\n",
    "x_train=sc.fit_transform(x_train)\n",
    "x_test=sc.transform(x_test)"
   ]
  },
  {
   "cell_type": "code",
   "execution_count": 19,
   "id": "869df4fe-d44b-4d30-a7b4-074fbcb681cc",
   "metadata": {},
   "outputs": [],
   "source": [
    "preinput=sc.transform([[1300,12000,4000,0,1]])"
   ]
  },
  {
   "cell_type": "code",
   "execution_count": 21,
   "id": "62b98d2a-c5ef-4d87-a2fc-ab7fad9fd7af",
   "metadata": {},
   "outputs": [
    {
     "data": {
      "text/plain": [
       "array([[1.30000000e+03, 1.20000000e+04, 4.00000000e+03, 9.51619735e-18,\n",
       "        1.00000000e+00]])"
      ]
     },
     "execution_count": 21,
     "metadata": {},
     "output_type": "execute_result"
    }
   ],
   "source": [
    "preinput"
   ]
  },
  {
   "cell_type": "code",
   "execution_count": 15,
   "id": "5179fcc7-7e73-4e3f-83d1-459a3bb26d6d",
   "metadata": {},
   "outputs": [],
   "source": [
    "loaded_model=pickle.load(open(\"finalized_model_SVM_preproceesed_input.sav\",'rb'))\n",
    "result=loaded_model.predict(preinput)"
   ]
  },
  {
   "cell_type": "code",
   "execution_count": 17,
   "id": "7c0bf66f-c721-4c3b-ab72-80f40ca588d1",
   "metadata": {},
   "outputs": [
    {
     "data": {
      "text/plain": [
       "array([108599.21691873])"
      ]
     },
     "execution_count": 17,
     "metadata": {},
     "output_type": "execute_result"
    }
   ],
   "source": [
    "result"
   ]
  },
  {
   "cell_type": "code",
   "execution_count": null,
   "id": "d8060b4e-889a-4799-a8a3-979ffd16ee36",
   "metadata": {},
   "outputs": [],
   "source": []
  }
 ],
 "metadata": {
  "kernelspec": {
   "display_name": "Python 3 (ipykernel)",
   "language": "python",
   "name": "python3"
  },
  "language_info": {
   "codemirror_mode": {
    "name": "ipython",
    "version": 3
   },
   "file_extension": ".py",
   "mimetype": "text/x-python",
   "name": "python",
   "nbconvert_exporter": "python",
   "pygments_lexer": "ipython3",
   "version": "3.12.4"
  }
 },
 "nbformat": 4,
 "nbformat_minor": 5
}
